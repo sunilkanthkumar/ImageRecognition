{
 "cells": [
  {
   "cell_type": "code",
   "execution_count": 87,
   "metadata": {
    "collapsed": true
   },
   "outputs": [],
   "source": [
    "import numpy as np\n",
    "import matplotlib.image as img\n",
    "import os\n",
    "import matplotlib.pyplot as plt\n",
    "from PIL import Image\n",
    "import time\n",
    "import pandas as pd\n",
    "import scipy\n",
    "from scipy import ndimage\n",
    "\n",
    "\n",
    "%matplotlib inline"
   ]
  },
  {
   "cell_type": "code",
   "execution_count": 88,
   "metadata": {
    "collapsed": true
   },
   "outputs": [],
   "source": [
    "path = 'C:/Users/Sunil/Documents/Cats/'\n",
    "imagesnames = os.listdir(path)\n",
    "#print(imagesnames)\n",
    "newpath ='C:/Users/Sunil/Documents/Newcat/'\n",
    "imgsize =100\n",
    "\n",
    "\n",
    "def resizeimages(imagesnames):\n",
    "    #print(np.shape(imagesnames))\n",
    "    for i in range(0,len(imagesnames)):\n",
    "        newimg = Image.open(path+ str(imagesnames[i]))\n",
    "        newimg = newimg.resize((imgsize,imgsize),Image.ANTIALIAS)\n",
    "        #print(np.shape(newimg))\n",
    "        newimg.save(newpath+str(imagesnames[i]))\n",
    "        "
   ]
  },
  {
   "cell_type": "code",
   "execution_count": 89,
   "metadata": {
    "collapsed": true
   },
   "outputs": [],
   "source": [
    "resizeimages(imagesnames)\n",
    "imagesnames1 = os.listdir(newpath)\n"
   ]
  },
  {
   "cell_type": "code",
   "execution_count": 90,
   "metadata": {
    "collapsed": true
   },
   "outputs": [],
   "source": [
    "# load values from excel to array\n",
    "\n",
    "df = pd.read_excel('C:/Users/Sunil/Documents/Y.xlsx',sheet='Sheet1')\n",
    "Y = df.values\n",
    "Y = Y.T\n",
    "\n"
   ]
  },
  {
   "cell_type": "code",
   "execution_count": 91,
   "metadata": {
    "collapsed": true
   },
   "outputs": [],
   "source": [
    "def loadtrainimages(imagesnames1):\n",
    "    for i in range(0,len(imagesnames1)):\n",
    "        image = img.imread(newpath + imagesnames1[i])\n",
    "        train_images.append(image)\n",
    "    return train_images"
   ]
  },
  {
   "cell_type": "code",
   "execution_count": 92,
   "metadata": {
    "collapsed": true
   },
   "outputs": [],
   "source": [
    "def printimages(train_set):\n",
    "    plt.figure()\n",
    "    plt.imshow(train_set)\n",
    "    "
   ]
  },
  {
   "cell_type": "code",
   "execution_count": 93,
   "metadata": {
    "collapsed": true
   },
   "outputs": [],
   "source": [
    "train_images=[]\n",
    "train_set = loadtrainimages(imagesnames1)\n",
    "#plt.imshow(train_set[1])\n",
    "\n",
    "#for i in range(0,len(train_set)):\n",
    "    #print(np.shape(train_set[i]))\n",
    "    #printimages(train_set[i])\n",
    "   "
   ]
  },
  {
   "cell_type": "code",
   "execution_count": 94,
   "metadata": {},
   "outputs": [
    {
     "name": "stdout",
     "output_type": "stream",
     "text": [
      "(30000, 88)\n",
      "(1, 88)\n",
      "88\n"
     ]
    }
   ],
   "source": [
    "#creating array of the images\n",
    "\n",
    "training_data = np.zeros((len(train_set),imgsize,imgsize,3))\n",
    "# loading the pixel data into array\n",
    "\n",
    "for i in range(0,len(train_set)):\n",
    "    training_data[i] = train_set[i]\n",
    "\n",
    "\n",
    "# Normalizing and reshapeing the pizel values \n",
    "\n",
    "training_data = training_data / 255\n",
    "training_data = training_data.reshape(training_data.shape[0],-1).T\n",
    "\n",
    "m_train = training_data.shape[1]\n",
    "\n",
    "\n",
    "print(np.shape(training_data))\n",
    "print(np.shape(Y))\n",
    "print(m_train)\n"
   ]
  },
  {
   "cell_type": "code",
   "execution_count": 95,
   "metadata": {
    "collapsed": true
   },
   "outputs": [],
   "source": [
    "# Applying deep learning to the above cat images after normalizing"
   ]
  },
  {
   "cell_type": "code",
   "execution_count": 96,
   "metadata": {
    "collapsed": true
   },
   "outputs": [],
   "source": [
    "#Sigmoid function\n",
    "\n",
    "def sigmoid(z):\n",
    "    sig  = 1 / (1 + np.exp(-z))\n",
    "    return sig\n"
   ]
  },
  {
   "cell_type": "code",
   "execution_count": 97,
   "metadata": {
    "collapsed": true
   },
   "outputs": [],
   "source": [
    "#initializing parameter values\n",
    "def initializeparameters(dim):\n",
    "    w = np.zeros((dim,1))\n",
    "    b=0\n",
    "    return w,b"
   ]
  },
  {
   "cell_type": "code",
   "execution_count": 98,
   "metadata": {
    "collapsed": true
   },
   "outputs": [],
   "source": [
    "#forward propagation\n",
    "\n",
    "def forwardprop(w,b,X,Y):\n",
    "    m = X.shape[1]\n",
    "    A = sigmoid(np.dot(w.T,X) + b)\n",
    "    cost = np.sum((Y * np.log(A))  + ((1 - Y)* np.log(1 - A)) , axis=1) / -m \n",
    "    \n",
    "    dw = dw = np.dot(X,(A - Y).T) /m\n",
    "    db =  np.sum((A - Y),axis=1)/m\n",
    "    grads = {\"dw\": dw,\n",
    "             \"db\": db}\n",
    "    \n",
    "    return grads, cost"
   ]
  },
  {
   "cell_type": "code",
   "execution_count": 99,
   "metadata": {
    "collapsed": true
   },
   "outputs": [],
   "source": [
    "# GRADED FUNCTION: optimize\n",
    "\n",
    "def optimize(w, b, X, Y, num_iterations, learning_rate, print_cost = False):  \n",
    "    costs = []\n",
    "    \n",
    "    for i in range(num_iterations):\n",
    "        \n",
    "        \n",
    "        \n",
    "        grads, cost = forwardprop(w, b, X, Y)\n",
    "        \n",
    "        \n",
    "        \n",
    "        dw = grads[\"dw\"]\n",
    "        db = grads[\"db\"]\n",
    "        \n",
    "        \n",
    "        w = w - learning_rate * dw\n",
    "        b = b - learning_rate * db\n",
    "       \n",
    "        \n",
    "        # Record the costs\n",
    "        if i % 100 == 0:\n",
    "            costs.append(cost)\n",
    "        \n",
    "        # Print the cost every 100 training examples\n",
    "        if print_cost and i % 100 == 0:\n",
    "            print (\"Cost after iteration %i: %f\" %(i, cost))\n",
    "    \n",
    "    params = {\"w\": w,\n",
    "              \"b\": b}\n",
    "    \n",
    "    grads = {\"dw\": dw,\n",
    "             \"db\": db}\n",
    "    \n",
    "    return params, grads, costs"
   ]
  },
  {
   "cell_type": "code",
   "execution_count": 100,
   "metadata": {
    "collapsed": true
   },
   "outputs": [],
   "source": [
    "# predict\n",
    "\n",
    "def predict(w, b, X):\n",
    "    \n",
    "    m = X.shape[1]\n",
    "    Y_prediction = np.zeros((1,m))\n",
    "    w = w.reshape(X.shape[0], 1)\n",
    "    \n",
    "   \n",
    "    A = 1 / (1 + np.exp(-(np.dot(w.T,X) + b)))\n",
    "    \n",
    "    \n",
    "    for i in range(A.shape[1]):\n",
    "        if A[0,i] >= 0.5 :\n",
    "            Y_prediction[0,i] = 1\n",
    "        else :\n",
    "            Y_prediction[0,i] = 0\n",
    "        pass\n",
    "        \n",
    "    \n",
    "    assert(Y_prediction.shape == (1, m))\n",
    "    \n",
    "    return Y_prediction"
   ]
  },
  {
   "cell_type": "code",
   "execution_count": 107,
   "metadata": {
    "collapsed": true
   },
   "outputs": [],
   "source": [
    "#model\n",
    "\n",
    "def model(X_train, Y_train, X_test, Y_test, num_iterations = 2000, learning_rate = 0.5, print_cost = False):\n",
    "    \n",
    "    # initialize parameters with zeros (≈ 1 line of code)\n",
    "    w, b = initializeparameters(imgsize * imgsize * 3)\n",
    "\n",
    "    # Gradient descent (≈ 1 line of code)\n",
    "    parameters, grads, costs = optimize(w, b, X_train, Y_train, num_iterations, learning_rate, print_cost)\n",
    "    \n",
    "    # Retrieve parameters w and b from dictionary \"parameters\"\n",
    "    w = parameters[\"w\"]\n",
    "    b = parameters[\"b\"]\n",
    "    \n",
    "    # Predict test/train set examples (≈ 2 lines of code)\n",
    "    Y_prediction_test = 0\n",
    "    Y_prediction_train = predict(w, b, X_train)\n",
    "\n",
    "    \n",
    "    # Print train/test Errors\n",
    "    print(\"train accuracy: {} %\".format(100 - np.mean(np.abs(Y_prediction_train - Y_train)) * 100))\n",
    "    print(\"test accuracy: {} %\".format(100 - np.mean(np.abs(Y_prediction_test - Y_test)) * 100))\n",
    "\n",
    "    \n",
    "    d = {\"costs\": costs,\n",
    "         \"Y_prediction_test\": Y_prediction_test, \n",
    "         \"Y_prediction_train\" : Y_prediction_train, \n",
    "         \"w\" : w, \n",
    "         \"b\" : b,\n",
    "         \"learning_rate\" : learning_rate,\n",
    "         \"num_iterations\": num_iterations}\n",
    "    \n",
    "    return d"
   ]
  },
  {
   "cell_type": "code",
   "execution_count": 126,
   "metadata": {},
   "outputs": [
    {
     "name": "stdout",
     "output_type": "stream",
     "text": [
      "Cost after iteration 0: 0.693147\n",
      "Cost after iteration 100: 1.445854\n",
      "Cost after iteration 200: 0.420231\n",
      "Cost after iteration 300: 0.103175\n",
      "Cost after iteration 400: 0.082372\n",
      "Cost after iteration 500: 0.069730\n",
      "Cost after iteration 600: 0.060773\n",
      "Cost after iteration 700: 0.053954\n",
      "Cost after iteration 800: 0.048541\n",
      "Cost after iteration 900: 0.044124\n",
      "Cost after iteration 1000: 0.040442\n",
      "Cost after iteration 1100: 0.037325\n",
      "Cost after iteration 1200: 0.034651\n",
      "Cost after iteration 1300: 0.032331\n",
      "Cost after iteration 1400: 0.030299\n",
      "Cost after iteration 1500: 0.028505\n",
      "Cost after iteration 1600: 0.026910\n",
      "Cost after iteration 1700: 0.025482\n",
      "Cost after iteration 1800: 0.024196\n",
      "Cost after iteration 1900: 0.023032\n",
      "Cost after iteration 2000: 0.021974\n",
      "Cost after iteration 2100: 0.021009\n",
      "Cost after iteration 2200: 0.020123\n",
      "Cost after iteration 2300: 0.019309\n",
      "Cost after iteration 2400: 0.018557\n",
      "Cost after iteration 2500: 0.017861\n",
      "Cost after iteration 2600: 0.017216\n",
      "Cost after iteration 2700: 0.016614\n",
      "Cost after iteration 2800: 0.016053\n",
      "Cost after iteration 2900: 0.015529\n",
      "Cost after iteration 3000: 0.015037\n",
      "Cost after iteration 3100: 0.014575\n",
      "Cost after iteration 3200: 0.014141\n",
      "Cost after iteration 3300: 0.013731\n",
      "Cost after iteration 3400: 0.013345\n",
      "train accuracy: 100.0 %\n",
      "test accuracy: 100.0 %\n"
     ]
    }
   ],
   "source": [
    "test_set_x = training_data[3]\n",
    "test_set_y = Y[:,3]\n",
    "\n",
    "d = model(training_data, Y , test_set_x, test_set_y, num_iterations = 3500, learning_rate = 0.003, print_cost = True)"
   ]
  },
  {
   "cell_type": "code",
   "execution_count": 139,
   "metadata": {},
   "outputs": [
    {
     "name": "stdout",
     "output_type": "stream",
     "text": [
      "[[ 1.]]\n"
     ]
    },
    {
     "data": {
      "image/png": "[encoded data removed]",
      "text/plain": [
       "<matplotlib.figure.Figure at 0xabb1898>"
      ]
     },
     "metadata": {},
     "output_type": "display_data"
    }
   ],
   "source": [
    "# test images\n",
    "fname = 'C:/Users/Sunil/Documents/Testcat/noncat4.jpg'\n",
    "image = np.array(ndimage.imread(fname, flatten=False))\n",
    "my_image = scipy.misc.imresize(image, size=(imgsize,imgsize)).reshape((1, imgsize*imgsize*3)).T\n",
    "my_image = my_image / 255\n",
    "my_predicted_image = predict(d[\"w\"], d[\"b\"], my_image)\n",
    "\n",
    "\n",
    "\n",
    "plt.imshow(image)\n",
    "print( my_predicted_image)"
   ]
  },
  {
   "cell_type": "code",
   "execution_count": null,
   "metadata": {
    "collapsed": true
   },
   "outputs": [],
   "source": []
  }
 ],
 "metadata": {
  "kernelspec": {
   "display_name": "Python 3",
   "language": "python",
   "name": "python3"
  },
  "language_info": {
   "codemirror_mode": {
    "name": "ipython",
    "version": 3
   },
   "file_extension": ".py",
   "mimetype": "text/x-python",
   "name": "python",
   "nbconvert_exporter": "python",
   "pygments_lexer": "ipython3",
   "version": "3.6.1"
  }
 },
 "nbformat": 4,
 "nbformat_minor": 2
}
